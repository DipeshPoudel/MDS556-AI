{
 "cells": [
  {
   "cell_type": "markdown",
   "id": "7f7ceceb",
   "metadata": {
    "slideshow": {
     "slide_type": "slide"
    }
   },
   "source": [
    "**Importing the Required Libaries**"
   ]
  },
  {
   "cell_type": "code",
   "execution_count": 1,
   "id": "94496e4c",
   "metadata": {
    "slideshow": {
     "slide_type": "subslide"
    }
   },
   "outputs": [],
   "source": [
    "import pandas as pd\n",
    "import re\n",
    "from nltk.tokenize import word_tokenize\n",
    "from nltk.stem import PorterStemmer\n",
    "from nltk.corpus import stopwords\n",
    "stop_words = set(stopwords.words('english'))\n",
    "from matplotlib import style\n",
    "from sklearn.feature_extraction.text import TfidfVectorizer\n",
    "from sklearn.model_selection import train_test_split\n",
    "from sklearn.linear_model import LogisticRegression\n",
    "from sklearn.metrics import accuracy_score, classification_report, confusion_matrix, ConfusionMatrixDisplay"
   ]
  },
  {
   "cell_type": "markdown",
   "id": "eac955a7",
   "metadata": {
    "slideshow": {
     "slide_type": "slide"
    }
   },
   "source": [
    "# Getting the Data\n",
    "1. Authors have manulally collected the data and labelled them and verified from Office of West Java language Hall\n",
    "![Example Data](labelled_data.PNG)\n",
    "2. For this example Data is taken from [Analytics Vidhya](https://datahack.analyticsvidhya.com/contest/practice-problem-twitter-sentiment-analysis/)"
   ]
  },
  {
   "cell_type": "code",
   "execution_count": 2,
   "id": "759ad3fb",
   "metadata": {
    "slideshow": {
     "slide_type": "subslide"
    }
   },
   "outputs": [
    {
     "data": {
      "text/plain": [
       "(31962, 3)"
      ]
     },
     "execution_count": 2,
     "metadata": {},
     "output_type": "execute_result"
    }
   ],
   "source": [
    "df = pd.read_csv(\"data/tweet_data.csv\")\n",
    "df.shape"
   ]
  },
  {
   "cell_type": "code",
   "execution_count": 3,
   "id": "68be281c",
   "metadata": {
    "slideshow": {
     "slide_type": "slide"
    }
   },
   "outputs": [],
   "source": [
    "hate_df = df[df['label']==1]\n",
    "non_hate_df = df[df['label']==0]"
   ]
  },
  {
   "cell_type": "code",
   "execution_count": 4,
   "id": "3d5707ea",
   "metadata": {
    "slideshow": {
     "slide_type": "slide"
    }
   },
   "outputs": [
    {
     "name": "stdout",
     "output_type": "stream",
     "text": [
      "@user #cnn calls #michigan middle school 'build the wall' chant '' #tcot   \n",
      "\n",
      "no comment!  in #australia   #opkillingbay #seashepherd #helpcovedolphins #thecove  #helpcovedolphins \n",
      "\n",
      "retweet if you agree!  \n",
      "\n",
      "@user @user lumpy says i am a . prove it lumpy. \n",
      "\n",
      "ð©the white establishment can't have blk folx running around loving themselves and promoting our greatness   \n",
      "\n"
     ]
    }
   ],
   "source": [
    "# printing first Hate  data\n",
    "print(hate_df['tweet'].iloc[0],\"\\n\")\n",
    "print(hate_df['tweet'].iloc[1],\"\\n\")\n",
    "print(hate_df['tweet'].iloc[2],\"\\n\")\n",
    "print(hate_df['tweet'].iloc[3],\"\\n\")\n",
    "print(hate_df['tweet'].iloc[6],\"\\n\")"
   ]
  },
  {
   "cell_type": "code",
   "execution_count": 5,
   "id": "10b6dd84",
   "metadata": {
    "slideshow": {
     "slide_type": "slide"
    }
   },
   "outputs": [
    {
     "name": "stdout",
     "output_type": "stream",
     "text": [
      " @user when a father is dysfunctional and is so selfish he drags his kids into his dysfunction.   #run \n",
      "\n",
      "@user @user thanks for #lyft credit i can't use cause they don't offer wheelchair vans in pdx.    #disapointed #getthanked \n",
      "\n",
      "  bihday your majesty \n",
      "\n",
      "#model   i love u take with u all the time in urð±!!! ðððð",
      "ð¦ð¦ð¦   \n",
      "\n",
      " â #ireland consumer price index (mom) climbed from previous 0.2% to 0.5% in may   #blog #silver #gold #forex \n",
      "\n"
     ]
    }
   ],
   "source": [
    "# printing first few data\n",
    "print(non_hate_df['tweet'].iloc[0],\"\\n\")\n",
    "print(non_hate_df['tweet'].iloc[1],\"\\n\")\n",
    "print(non_hate_df['tweet'].iloc[2],\"\\n\")\n",
    "print(non_hate_df['tweet'].iloc[3],\"\\n\")\n",
    "print(non_hate_df['tweet'].iloc[10],\"\\n\")"
   ]
  },
  {
   "cell_type": "markdown",
   "id": "7374cad7",
   "metadata": {
    "slideshow": {
     "slide_type": "slide"
    }
   },
   "source": [
    "## Pre-Processing"
   ]
  },
  {
   "cell_type": "markdown",
   "id": "30ce453b",
   "metadata": {
    "slideshow": {
     "slide_type": "slide"
    }
   },
   "source": [
    "### Case Folding\n",
    "\n",
    "* Convert all the words in the sentence to lowercase letters. "
   ]
  },
  {
   "cell_type": "markdown",
   "id": "67ba7b5e",
   "metadata": {
    "slideshow": {
     "slide_type": "slide"
    }
   },
   "source": [
    "### Tokenizing\n",
    "* At this stage, symbols like `?`,`\"\"`,`@` etc are removed\n",
    "* Text is seperated into sequentials token"
   ]
  },
  {
   "cell_type": "markdown",
   "id": "da6cea21",
   "metadata": {
    "slideshow": {
     "slide_type": "slide"
    }
   },
   "source": [
    "### Filtering (Stop Words Removal)\n",
    "* Removing the Words that are not necessary for next step"
   ]
  },
  {
   "cell_type": "code",
   "execution_count": 6,
   "id": "61fce6f0",
   "metadata": {
    "slideshow": {
     "slide_type": "subslide"
    }
   },
   "outputs": [
    {
     "name": "stdout",
     "output_type": "stream",
     "text": [
      "{'no', 'by', 'shouldn', 'own', 'before', 'his', 'hers', 'through', 'don', 'himself', 'shan', 'do', 'them', 'and', 'wouldn', 'isn', 'o', 'how', \"you'll\", 've', 'been', 'above', 'we', 'should', 'the', 're', 'hasn', 'haven', 'our', 'can', \"wasn't\", \"mightn't\", \"that'll\", 'won', 'were', 'just', 'each', 'her', 'between', 'yourselves', 'ain', 'until', \"you'd\", 'd', 'was', 'your', 'm', 'doing', 'so', 'up', 'herself', \"couldn't\", 'in', \"isn't\", 'who', 'did', 'after', \"weren't\", 'all', 'off', 'i', \"won't\", 'where', 'does', 'such', 'now', 'into', 'aren', 'under', 'an', \"should've\", 'y', 'below', \"didn't\", 'with', 'any', 'very', 'if', 'further', 'when', \"aren't\", 'me', 'myself', 'a', 'what', \"she's\", 'having', 'ours', 'am', 'its', 'against', 'over', 'because', \"mustn't\", 'themselves', 'to', \"hasn't\", 'him', 'again', 'about', 'is', 'which', 't', 's', 'during', 'down', 'had', \"shan't\", 'mightn', \"needn't\", 'they', 'then', 'these', 'didn', 'wasn', 'it', 'has', 'too', \"you've\", 'why', 'yours', \"it's\", 'theirs', 'you', 'from', 'hadn', 'nor', 'that', 'ourselves', 'for', 'here', 'other', 'this', 'only', 'yourself', 'have', 'most', 'will', 'be', 'he', 'both', \"don't\", 'ma', \"doesn't\", 'of', 'not', 'few', 'itself', 'while', 'she', 'at', 'as', 'there', \"haven't\", 'their', 'but', 'than', 'needn', 'being', \"you're\", 'those', 'my', 'some', 'mustn', 'couldn', 'on', \"shouldn't\", 'whom', 'or', 'once', 'weren', 'll', 'are', \"hadn't\", 'more', 'out', 'doesn', \"wouldn't\", 'same'}\n"
     ]
    }
   ],
   "source": [
    "print(stop_words)"
   ]
  },
  {
   "cell_type": "markdown",
   "id": "2ac76c31",
   "metadata": {
    "slideshow": {
     "slide_type": "slide"
    }
   },
   "source": [
    "### Stemming\n",
    "\n",
    "* Converting the word in same form. For example `running` is converted to `run`"
   ]
  },
  {
   "cell_type": "code",
   "execution_count": 7,
   "id": "8a18c2c5",
   "metadata": {
    "slideshow": {
     "slide_type": "slide"
    }
   },
   "outputs": [],
   "source": [
    "def data_processing(tweet):\n",
    "    # Case Folding \n",
    "    tweet = tweet.lower()\n",
    "    # Tokenizing\n",
    "    tweet = re.sub(r\"https\\S+|www\\S+http\\S+\", '', tweet, flags = re.MULTILINE)\n",
    "    tweet = re.sub(r'\\@w+|\\#','', tweet)\n",
    "    tweet = re.sub(r'[^\\w\\s]','',tweet)\n",
    "    tweet = re.sub(r'ð','',tweet)\n",
    "    tweet_tokens = word_tokenize(tweet)\n",
    "    # Filtering\n",
    "    filtered_tweets = [w for w in tweet_tokens if not w in stop_words]\n",
    "    return \" \".join(filtered_tweets)"
   ]
  },
  {
   "cell_type": "code",
   "execution_count": 8,
   "id": "f54abfd5",
   "metadata": {
    "slideshow": {
     "slide_type": "subslide"
    }
   },
   "outputs": [
    {
     "name": "stdout",
     "output_type": "stream",
     "text": [
      "user father dysfunctional selfish drags kids dysfunction run \n",
      "\n",
      "user user thanks lyft credit cant use cause dont offer wheelchair vans pdx disapointed getthanked \n",
      "\n",
      "bihday majesty \n",
      "\n",
      "model love u take u time ur \n",
      "\n",
      "user camping tomorrow user user user user user user user dannyâ \n",
      "\n"
     ]
    }
   ],
   "source": [
    "df['tweet'] = df['tweet'].apply(data_processing)\n",
    "# printing the data to see the effect of preprocessing\n",
    "print(df['tweet'].iloc[0],\"\\n\")\n",
    "print(df['tweet'].iloc[1],\"\\n\")\n",
    "print(df['tweet'].iloc[2],\"\\n\")\n",
    "print(df['tweet'].iloc[3],\"\\n\")\n",
    "print(df['tweet'].iloc[6],\"\\n\")"
   ]
  },
  {
   "cell_type": "code",
   "execution_count": 9,
   "id": "a50c96ae",
   "metadata": {
    "slideshow": {
     "slide_type": "slide"
    }
   },
   "outputs": [],
   "source": [
    "stemmer = PorterStemmer()\n",
    "def stemming(data):\n",
    "    tweet = [stemmer.stem(word) for word in data]\n",
    "    return data"
   ]
  },
  {
   "cell_type": "code",
   "execution_count": 10,
   "id": "bc2c1980",
   "metadata": {},
   "outputs": [
    {
     "name": "stdout",
     "output_type": "stream",
     "text": [
      "user father dysfunctional selfish drags kids dysfunction run \n",
      "\n",
      "user user thanks lyft credit cant use cause dont offer wheelchair vans pdx disapointed getthanked \n",
      "\n",
      "bihday majesty \n",
      "\n",
      "model love u take u time ur \n",
      "\n",
      "user camping tomorrow user user user user user user user dannyâ \n",
      "\n"
     ]
    }
   ],
   "source": [
    "df['tweet'] = df['tweet'].apply(lambda x: stemming(x))\n",
    "# printing the data to see the effect of preprocessing\n",
    "print(df['tweet'].iloc[0],\"\\n\")\n",
    "print(df['tweet'].iloc[1],\"\\n\")\n",
    "print(df['tweet'].iloc[2],\"\\n\")\n",
    "print(df['tweet'].iloc[3],\"\\n\")\n",
    "print(df['tweet'].iloc[6],\"\\n\")"
   ]
  },
  {
   "cell_type": "markdown",
   "id": "016d94bf",
   "metadata": {
    "slideshow": {
     "slide_type": "slide"
    }
   },
   "source": [
    "## TF-IDF Calculation\n",
    "\n",
    "Figure below shows the process for calculating TF-IDF\n",
    "![TF-IDF Calculation Process](tf_idf_calc_process.PNG)"
   ]
  },
  {
   "cell_type": "markdown",
   "id": "6bd63833",
   "metadata": {
    "slideshow": {
     "slide_type": "slide"
    }
   },
   "source": [
    "1. Term Frequency(TF):\n",
    "\n",
    "Number of occurrences of a term (t) in each tweet"
   ]
  },
  {
   "cell_type": "markdown",
   "id": "9d42621b",
   "metadata": {
    "slideshow": {
     "slide_type": "slide"
    }
   },
   "source": [
    "2. Document Frequency(DF):\n",
    "\n",
    "DF measures the importance of documents in a whole set of the corpus. This is very similar to TF but the only difference is that TF is the frequency counter for a term t in document d, whereas DF is the count of occurrences of term t in the document set N"
   ]
  },
  {
   "cell_type": "markdown",
   "id": "e0ced5eb",
   "metadata": {
    "slideshow": {
     "slide_type": "slide"
    }
   },
   "source": [
    "3. Inverse Document Frequency(IDF)\n",
    "\n",
    "IDF is the inverse of the document frequency which measures the informativeness of term t. \n",
    "\n",
    "$idf(t) = N/df$\n",
    "Few Problems with above Formula:\n",
    "* when we have a large corpus size say N=10000, the IDF value explodes. So to dampen the effect we take the log of IDF.\n",
    "* If df=0 then value is undefined\n",
    "To resolve the problem log is used\n",
    "\n",
    "$idf(t) = log(N/(df + 1))$"
   ]
  },
  {
   "cell_type": "markdown",
   "id": "78e0281d",
   "metadata": {
    "slideshow": {
     "slide_type": "slide"
    }
   },
   "source": [
    "4. Term Frequency — Inverse Document Frequency(TF-IDF)\n",
    "\n",
    "Term frequency-inverse document frequency is a text vectorizer that transforms the text into a usable vector. It combines 2 concepts, Term Frequency (TF) and Document Frequency (DF)\n",
    "\n",
    "$TF-IDF = Term Frequency (TF) * Inverse Document Frequency (IDF)$"
   ]
  },
  {
   "cell_type": "code",
   "execution_count": 11,
   "id": "4d51a540",
   "metadata": {
    "slideshow": {
     "slide_type": "slide"
    }
   },
   "outputs": [
    {
     "name": "stdout",
     "output_type": "stream",
     "text": [
      "Number of features: 208579\n",
      "\n",
      "First 20 features: \n",
      "['0000001' '0000001 polluting' '00027' '00027 photooftheday' '001' '0035'\n",
      " '00h30' '01' '01 4995' '01 7900' '01 blog' '01 croatia' '01 may'\n",
      " '01 shopalyssas' '0115' '0115 8599968' '0161' '0161 manny' '019'\n",
      " '019 previous']\n"
     ]
    }
   ],
   "source": [
    "vect = TfidfVectorizer(ngram_range=(1,2)).fit(df['tweet'])\n",
    "feature_names = vect.get_feature_names_out()\n",
    "print(\"Number of features: {}\\n\".format(len(feature_names)))\n",
    "print(\"First 20 features: \\n{}\".format(feature_names[:20]))"
   ]
  },
  {
   "cell_type": "code",
   "execution_count": 12,
   "id": "1d8f29a5",
   "metadata": {
    "slideshow": {
     "slide_type": "slide"
    }
   },
   "outputs": [
    {
     "name": "stdout",
     "output_type": "stream",
     "text": [
      "Number of features: 380305\n",
      "\n",
      "First 20 features: \n",
      "['0000001' '0000001 polluting' '0000001 polluting niger' '00027'\n",
      " '00027 photooftheday' '00027 photooftheday music' '001' '0035' '00h30'\n",
      " '01' '01 4995' '01 4995 rustic' '01 7900' '01 7900 shopalyssas' '01 blog'\n",
      " '01 blog silver' '01 croatia' '01 croatia happy' '01 may' '01 may actual']\n"
     ]
    }
   ],
   "source": [
    "vect = TfidfVectorizer(ngram_range=(1,3)).fit(df['tweet'])\n",
    "feature_names = vect.get_feature_names_out()\n",
    "print(\"Number of features: {}\\n\".format(len(feature_names)))\n",
    "print(\"First 20 features: \\n{}\".format(feature_names[:20]))"
   ]
  },
  {
   "cell_type": "code",
   "execution_count": 13,
   "id": "74bed924",
   "metadata": {
    "slideshow": {
     "slide_type": "slide"
    }
   },
   "outputs": [
    {
     "data": {
      "text/plain": [
       "<AxesSubplot:>"
      ]
     },
     "execution_count": 13,
     "metadata": {},
     "output_type": "execute_result"
    },
    {
     "data": {
      "image/png": "[encoded data removed]",
      "text/plain": [
       "<Figure size 432x288 with 1 Axes>"
      ]
     },
     "metadata": {
      "needs_background": "light"
     },
     "output_type": "display_data"
    }
   ],
   "source": [
    "df['label'].value_counts().plot(kind='bar')"
   ]
  },
  {
   "cell_type": "markdown",
   "id": "ec8680c3",
   "metadata": {
    "slideshow": {
     "slide_type": "slide"
    }
   },
   "source": [
    "## Train Test Split\n",
    "\n",
    "Splitting the Data into Training and Testing Set. In the paper, the best result was obtained in 90-10 split so suing the same."
   ]
  },
  {
   "cell_type": "code",
   "execution_count": 14,
   "id": "763d8cfe",
   "metadata": {},
   "outputs": [],
   "source": [
    "X = df['tweet']\n",
    "y = df['label']\n",
    "X = vect.transform(X)\n",
    "x_train, x_test, y_train, y_test = train_test_split(X, y, test_size=0.1, random_state=0)"
   ]
  },
  {
   "cell_type": "markdown",
   "id": "c884fbfb",
   "metadata": {
    "slideshow": {
     "slide_type": "slide"
    }
   },
   "source": [
    "## Model Building\n",
    "\n",
    "\n",
    "Given a data(X,Y), X being a matrix of values with m examples and n features and Y being a vector with m examples. The objective is to train the model to predict which class the future values belong to. Primarily, we create a weight matrix with random initialization. Then we multiply it by features.\n",
    "\n",
    "![Linear Equation](linear.PNG)"
   ]
  },
  {
   "cell_type": "markdown",
   "id": "b4fddc57",
   "metadata": {
    "slideshow": {
     "slide_type": "slide"
    }
   },
   "source": [
    "![Logit Function](logit.PNG)"
   ]
  },
  {
   "cell_type": "markdown",
   "id": "3e8992c9",
   "metadata": {
    "slideshow": {
     "slide_type": "slide"
    }
   },
   "source": [
    "\n",
    "![Weight Update](weight_update.PNG)"
   ]
  },
  {
   "cell_type": "code",
   "execution_count": 15,
   "id": "9c4668a1",
   "metadata": {
    "slideshow": {
     "slide_type": "slide"
    }
   },
   "outputs": [
    {
     "name": "stdout",
     "output_type": "stream",
     "text": [
      "Test accuarcy: 95.12%\n"
     ]
    }
   ],
   "source": [
    "logreg = LogisticRegression(multi_class=\"multinomial\")\n",
    "logreg.fit(x_train, y_train)\n",
    "logreg_predict = logreg.predict(x_test)\n",
    "logreg_acc = accuracy_score(logreg_predict, y_test)\n",
    "print(\"Test accuarcy: {:.2f}%\".format(logreg_acc*100))"
   ]
  },
  {
   "cell_type": "markdown",
   "id": "ff63f119",
   "metadata": {
    "slideshow": {
     "slide_type": "slide"
    }
   },
   "source": [
    "## Model Evaluation"
   ]
  },
  {
   "cell_type": "markdown",
   "id": "af2de57a",
   "metadata": {
    "slideshow": {
     "slide_type": "slide"
    }
   },
   "source": [
    "### Confusion Matrix\n",
    "\n",
    "A confusion matrix is a tabular summary of the number of correct and incorrect predictions made by a classifier. It is used to measure the performance of a classification model. It can be used to evaluate the performance of a classification model through the calculation of performance metrics like accuracy, precision, recall, and F1-score.\n",
    "\n",
    "![Confusion Matrxi](confusion_matrix.png)\n"
   ]
  },
  {
   "cell_type": "markdown",
   "id": "561efd52",
   "metadata": {
    "slideshow": {
     "slide_type": "slide"
    }
   },
   "source": [
    "#### True Positive (TP)\n",
    "The model predicted positive value(1) and the actual value is also positive(1). In our example, we predicted that the text is hateful prediction is also hateful.\n",
    "#### True Negative (TN)\n",
    "The model predicted negative value(0) and the actual value is also negative (0). In our example, we predcited that the text is not hateful and prediction is also not hateful\n",
    "#### False Positive (FP)\n",
    "There are negative cases where the we incorrectly predicted postitive. We predicted the text is hatfeul but they actually are not hateful. This is also called **Type-1 Error**.\n",
    "#### False Negative (FN)\n",
    "There are postive cases where the we incorrectly predicted negative. We predicted the text is not hateful but they actually are hateful. This is also called **Type-2 Error**."
   ]
  },
  {
   "cell_type": "code",
   "execution_count": 16,
   "id": "bddb5a3a",
   "metadata": {
    "slideshow": {
     "slide_type": "slide"
    }
   },
   "outputs": [
    {
     "data": {
      "text/plain": [
       "<sklearn.metrics._plot.confusion_matrix.ConfusionMatrixDisplay at 0x19778c94be0>"
      ]
     },
     "execution_count": 16,
     "metadata": {},
     "output_type": "execute_result"
    },
    {
     "data": {
      "image/png": "[encoded data removed]",
      "text/plain": [
       "<Figure size 640x480 with 2 Axes>"
      ]
     },
     "metadata": {},
     "output_type": "display_data"
    }
   ],
   "source": [
    "style.use('classic')\n",
    "cm = confusion_matrix(y_test, logreg_predict, labels=logreg.classes_)\n",
    "disp = ConfusionMatrixDisplay(confusion_matrix=cm, display_labels=logreg.classes_)\n",
    "disp.plot()"
   ]
  },
  {
   "cell_type": "markdown",
   "id": "503c9748",
   "metadata": {
    "slideshow": {
     "slide_type": "slide"
    }
   },
   "source": [
    "### Precision Recall,F-1 Score and Accuracy\n",
    "\n",
    "![Calculation Formula](metrices.JPG)"
   ]
  },
  {
   "cell_type": "code",
   "execution_count": 17,
   "id": "16ab129b",
   "metadata": {
    "slideshow": {
     "slide_type": "subslide"
    }
   },
   "outputs": [
    {
     "name": "stdout",
     "output_type": "stream",
     "text": [
      "              precision    recall  f1-score   support\n",
      "\n",
      "           0       0.95      1.00      0.97      3009\n",
      "           1       0.97      0.18      0.30       188\n",
      "\n",
      "    accuracy                           0.95      3197\n",
      "   macro avg       0.96      0.59      0.64      3197\n",
      "weighted avg       0.95      0.95      0.93      3197\n",
      "\n"
     ]
    }
   ],
   "source": [
    "print(classification_report(y_test, logreg_predict))"
   ]
  }
 ],
 "metadata": {
  "celltoolbar": "Slideshow",
  "kernelspec": {
   "display_name": "Python 3 (ipykernel)",
   "language": "python",
   "name": "python3"
  },
  "language_info": {
   "codemirror_mode": {
    "name": "ipython",
    "version": 3
   },
   "file_extension": ".py",
   "mimetype": "text/x-python",
   "name": "python",
   "nbconvert_exporter": "python",
   "pygments_lexer": "ipython3",
   "version": "3.7.1"
  }
 },
 "nbformat": 4,
 "nbformat_minor": 5
}
